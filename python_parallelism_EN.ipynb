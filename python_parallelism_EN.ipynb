{
 "cells": [
  {
   "cell_type": "code",
   "execution_count": null,
   "metadata": {},
   "outputs": [],
   "source": []
  },
  {
   "cell_type": "code",
   "execution_count": null,
   "metadata": {},
   "outputs": [],
   "source": [
    "thread pool in Python"
   ]
  },
  {
   "cell_type": "code",
   "execution_count": null,
   "metadata": {},
   "outputs": [],
   "source": [
    "from multiprocessing.dummy import Pool as ThreadPool\n",
    "\n",
    "pool = ThreadPool(threads)\n",
    "results = pool.map(service, tasks)\n",
    "pool.close()\n",
    "pool.join()\n",
    "return results"
   ]
  },
  {
   "cell_type": "markdown",
   "metadata": {},
   "source": []
  },
  {
   "cell_type": "code",
   "execution_count": 8,
   "metadata": {},
   "outputs": [
    {
     "name": "stdout",
     "output_type": "stream",
     "text": [
      "square: square:  4\n",
      "square: square:  16\n",
      " 9\n",
      " 1\n",
      "square:  25\n",
      "CPU times: user 9.47 ms, sys: 4.98 ms, total: 14.4 ms\n",
      "Wall time: 2.05 s\n",
      "1\n",
      "4\n",
      "9\n",
      "16\n",
      "25\n"
     ]
    }
   ],
   "source": [
    "import time\n",
    "from multiprocessing.dummy import Pool as ThreadPool\n",
    "\n",
    "def squareNumber(n):\n",
    "    time.sleep(1)\n",
    "    print('square: ',n ** 2)\n",
    "    return n ** 2\n",
    "\n",
    "# function to be mapped over\n",
    "def calculateParallel(numbers, threads=2):\n",
    "    pool = ThreadPool(threads)\n",
    "    results = pool.map(squareNumber, numbers)\n",
    "    pool.close()\n",
    "    pool.join()\n",
    "    return results\n",
    "\n",
    "if __name__ == \"__main__\":\n",
    "    numbers = [1, 2, 3, 4, 5]\n",
    "    %time squaredNumbers = calculateParallel(numbers, 4)\n",
    "    for n in squaredNumbers:\n",
    "        print(n);"
   ]
  },
  {
   "cell_type": "code",
   "execution_count": 25,
   "metadata": {},
   "outputs": [
    {
     "name": "stdout",
     "output_type": "stream",
     "text": [
      "square: 25\n"
     ]
    }
   ],
   "source": [
    "# Threado\n",
    "from threading import Thread\n",
    "    \n",
    "def squareNumber(n):\n",
    "    time.sleep(1)\n",
    "    print('square:',n*n)\n",
    "    return n ** 2\n",
    "    \n",
    "t = Thread(target=squareNumber, args=(5, ))\n",
    "t.start()\n",
    "t.join()"
   ]
  }
 ],
 "metadata": {
  "kernelspec": {
   "display_name": "Python 3",
   "language": "python",
   "name": "python3"
  },
  "language_info": {
   "codemirror_mode": {
    "name": "ipython",
    "version": 3
   },
   "file_extension": ".py",
   "mimetype": "text/x-python",
   "name": "python",
   "nbconvert_exporter": "python",
   "pygments_lexer": "ipython3",
   "version": "3.7.0"
  }
 },
 "nbformat": 4,
 "nbformat_minor": 2
}
